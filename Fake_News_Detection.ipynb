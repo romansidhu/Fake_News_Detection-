{
  "cells": [
    {
      "cell_type": "code",
      "execution_count": 1,
      "metadata": {
        "id": "5NQdB-m1AatL"
      },
      "outputs": [],
      "source": [
        "# Step 1: Install Required Libraries"
      ]
    },
    {
      "cell_type": "code",
      "execution_count": 2,
      "metadata": {
        "colab": {
          "base_uri": "https://localhost:8080/"
        },
        "id": "dcFDhWNEBZ1X",
        "outputId": "30eeb2ca-60d6-4565-ed45-ea930bb905a1"
      },
      "outputs": [
        {
          "name": "stdout",
          "output_type": "stream",
          "text": [
            "Requirement already satisfied: pandas in /usr/local/lib/python3.11/dist-packages (2.2.2)\n",
            "Requirement already satisfied: numpy in /usr/local/lib/python3.11/dist-packages (2.0.2)\n",
            "Requirement already satisfied: scikit-learn in /usr/local/lib/python3.11/dist-packages (1.6.1)\n",
            "Requirement already satisfied: python-dateutil>=2.8.2 in /usr/local/lib/python3.11/dist-packages (from pandas) (2.9.0.post0)\n",
            "Requirement already satisfied: pytz>=2020.1 in /usr/local/lib/python3.11/dist-packages (from pandas) (2025.2)\n",
            "Requirement already satisfied: tzdata>=2022.7 in /usr/local/lib/python3.11/dist-packages (from pandas) (2025.2)\n",
            "Requirement already satisfied: scipy>=1.6.0 in /usr/local/lib/python3.11/dist-packages (from scikit-learn) (1.15.3)\n",
            "Requirement already satisfied: joblib>=1.2.0 in /usr/local/lib/python3.11/dist-packages (from scikit-learn) (1.5.1)\n",
            "Requirement already satisfied: threadpoolctl>=3.1.0 in /usr/local/lib/python3.11/dist-packages (from scikit-learn) (3.6.0)\n",
            "Requirement already satisfied: six>=1.5 in /usr/local/lib/python3.11/dist-packages (from python-dateutil>=2.8.2->pandas) (1.17.0)\n"
          ]
        }
      ],
      "source": [
        "!pip install pandas numpy scikit-learn"
      ]
    },
    {
      "cell_type": "code",
      "execution_count": 7,
      "metadata": {
        "id": "Gawq4AkkBngu"
      },
      "outputs": [],
      "source": [
        "# Step 2: Import Required Libraries"
      ]
    },
    {
      "cell_type": "code",
      "execution_count": 8,
      "metadata": {
        "colab": {
          "base_uri": "https://localhost:8080/"
        },
        "id": "4Dlc0y6ACUER",
        "outputId": "d4c39021-b19c-4391-e287-0d972235c3a3"
      },
      "outputs": [
        {
          "name": "stdout",
          "output_type": "stream",
          "text": [
            "Libraries imported successfully\n"
          ]
        }
      ],
      "source": [
        "import pandas as pd\n",
        "import numpy as np\n",
        "from sklearn.model_selection import train_test_split\n",
        "from sklearn.feature_extraction.text import TfidfVectorizer\n",
        "from sklearn.linear_model import PassiveAggressiveClassifier\n",
        "from sklearn.metrics import accuracy_score, confusion_matrix\n",
        "\n",
        "print(\"Libraries imported successfully\")"
      ]
    },
    {
      "cell_type": "code",
      "execution_count": 9,
      "metadata": {
        "id": "QadIBlNCKS05"
      },
      "outputs": [],
      "source": [
        "# Step 3: Combine fake and Real News Datasets"
      ]
    },
    {
      "cell_type": "code",
      "execution_count": 11,
      "metadata": {
        "colab": {
          "base_uri": "https://localhost:8080/",
          "height": 398
        },
        "id": "-zeeB11BC9hg",
        "outputId": "e1694857-7bcd-40d3-851a-464da4409d32"
      },
      "outputs": [
        {
          "name": "stdout",
          "output_type": "stream",
          "text": [
            "✅ Combined dataset ready\n"
          ]
        },
        {
          "data": {
            "application/vnd.google.colaboratory.intrinsic+json": {
              "summary": "{\n  \"name\": \"df\",\n  \"rows\": 44898,\n  \"fields\": [\n    {\n      \"column\": \"title\",\n      \"properties\": {\n        \"dtype\": \"string\",\n        \"num_unique_values\": 38729,\n        \"samples\": [\n          \"Kenya opposition wants vote planned for Saturday canceled\",\n          \" President Obama BURNS Canadian Ted Cruz With Epic Joke (VIDEO)\",\n          \" Politifact\\u2019s Scorecards For Clinton, Kaine Versus Trump, Pence Should Make Every Republican Cry\"\n        ],\n        \"semantic_type\": \"\",\n        \"description\": \"\"\n      }\n    },\n    {\n      \"column\": \"text\",\n      \"properties\": {\n        \"dtype\": \"string\",\n        \"num_unique_values\": 38646,\n        \"samples\": [\n          \"VP-ELECT APPEARS FIRST AND THEN AT THE 6 MINUTE MARK DONALD TRUMP S SPEECH BEGINS: \",\n          \"(function(d, s, id) {  var js, fjs = d.getElementsByTagName(s)[0];  if (d.getElementById(id)) return;  js = d.createElement(s); js.id = id;  js.src = \\\"//connect.facebook.net/en_US/sdk.js#xfbml=1&version=v2.3\\\";  fjs.parentNode.insertBefore(js, fjs);}(document, 'script', 'facebook-jssdk'));Obama Tears Share thisPosted by Dave Sayen on Thursday, January 7, 2016Don t take our word for it, watch Obama s speech on gun control in December, 2012. Pay close attention to the 1:01 mark, where he rubs his left index finger into the corner of his eye (exactly like he did last week) pauses, (like he did last week) puts his head down and pauses a bit longer (waiting for the menthol to work) and then (exactly like last week) he lifts his head and exposes the tears flowing, but only from the eye he put his finger in before tears ever began flowing:This is a character issue. Whether you disagree or agree with his gun control agenda is not the issue here. The point is, if the elected leader of the greatest nation on earth is willing to stand in front of millions and place menthol in his eye in order to make himself cry fake tears, to persuade Americans we need gun control, why should Americans believe ANYTHING he has to say?\",\n          \"PARIS/BAGHDAD (Reuters) - French President Emmanuel Macron on Saturday called on Iraq to dismantle all militias, including the government-sanctioned, Iran-backed Popular Mobilisation Forces (PMF), a rare public call to do so by a major Western leader. Macron s call, which followed a meeting with Iraqi Kurdish leaders in Paris, underscores the tough balancing act Baghdad has to perform between its allies in the war on Islamic State, Iran and Western powers, which do not see eye to eye.  It is essential that there is a gradual demilitarisation, in particular of the Popular Mobilisation that established itself in the last few years in Iraq, and that all militias be gradually dismantled,  he told a Paris news conference held with Iraqi Kurdish leaders. Kurdistan Regional Government (KRG) authorities accuse the majority Arab Shi ite PMF of widespread abuses against Kurds in Iraq s ethnically mixed regions. Iraqi Prime Minister Haider al-Abadi s government denies that the PMF are engaged in a systematic pattern of abuses and has pledged to punish anyone proven guilty of violations. Disarming the PMF is seen as Abadi s most difficult test as his forces edge closer to declaring victory over Islamic State. In Baghdad, Abadi s office released a statement later saying he had spoken to Macron by phone and that the French president had affirmed his country s commitment to a unified Iraq. It made no mention of Macron s call to dismantle the militias. Iraqi Vice President Nuri al-Maliki, a former prime minister who was pressured to leave office by both the U.S. and Iran for failing to stop Islamic State, was more forceful. Macron, he said, was carrying out  unacceptable interference  in Iraq s internal affairs.  These positions from France are absolutely rejected and harm Iraq s sovereignty and its institutions,  Maliki said in a statement. Macron s meeting with KRG Prime Minister Nechirvan Barzani and his deputy Qubad Talabani was the first high-profile international meeting for the Kurdish leadership after a Sept. 25 independence referendum. U.S. Secretary of State Rex Tillerson and British Prime Minister Theresa May have both made trips to Iraq after the referendum but only met officials in Baghdad and made no visits to the KRG capital Erbil. Western powers had encouraged the Kurds not to hold the referendum and instead engage in dialogue with Baghdad. Macron again called for dialogue between the central government in Baghdad and the semi-autonomous KRG within the framework of the Iraqi constitution, saying he was convinced a  constructive dialogue  could lead to lifting Baghdad s restrictions on the Kurdish region. Kurds voted to break away from Iraq in the referendum, defying the government in Baghdad and alarming neighboring Turkey and Iran who have their own Kurdish minorities. The Iraqi government responded by seizing the Kurdish-held city of Kirkuk and other territory disputed between the Kurds and the central government. Long-serving Kurdish president Masoud Barzani stepped down over the affair and the regional government led by his nephew Nechirvan has tried to negotiate an end to the confrontation. The Kurdish prime minister said on Saturday he saw France playing a role to end the dispute with Baghdad and that his government respected a verdict by the Iraqi Supreme Federal Court ruling the referendum unconstitutional and its results void.  With regards to the referendum, we are in a new era, and this issue is over and we have made our position in the Kurdistan Regional Government clear,  Erbil-based broadcaster Rudaw quoted Barzani as saying. Macron called for the long-delayed implementation of Article 140 of the Iraqi constitution to settle the status of territories disputed between Baghdad and the Kurds. Article 140 provided for a referendum to be held by the end of 2007 in the oil region of Kirkuk and other territories claimed by both the KRG and the Iraqi government to determine whether their populations wanted to be part of the Kurdish region or not. No such referendum took place, among the reasons cited by the KRG to unilaterally hold its referendum on independence.  \"\n        ],\n        \"semantic_type\": \"\",\n        \"description\": \"\"\n      }\n    },\n    {\n      \"column\": \"subject\",\n      \"properties\": {\n        \"dtype\": \"category\",\n        \"num_unique_values\": 8,\n        \"samples\": [\n          \"politics\",\n          \"US_News\",\n          \"worldnews\"\n        ],\n        \"semantic_type\": \"\",\n        \"description\": \"\"\n      }\n    },\n    {\n      \"column\": \"date\",\n      \"properties\": {\n        \"dtype\": \"category\",\n        \"num_unique_values\": 2397,\n        \"samples\": [\n          \"Apr 26, 2015\",\n          \"Aug 11, 2017\",\n          \"January 16, 2016\"\n        ],\n        \"semantic_type\": \"\",\n        \"description\": \"\"\n      }\n    },\n    {\n      \"column\": \"label\",\n      \"properties\": {\n        \"dtype\": \"category\",\n        \"num_unique_values\": 2,\n        \"samples\": [\n          \"FAKE\",\n          \"REAL\"\n        ],\n        \"semantic_type\": \"\",\n        \"description\": \"\"\n      }\n    }\n  ]\n}",
              "type": "dataframe",
              "variable_name": "df"
            },
            "text/html": [
              "\n",
              "  <div id=\"df-0a7862d3-8593-401e-87c0-37b7e25deb90\" class=\"colab-df-container\">\n",
              "    <div>\n",
              "<style scoped>\n",
              "    .dataframe tbody tr th:only-of-type {\n",
              "        vertical-align: middle;\n",
              "    }\n",
              "\n",
              "    .dataframe tbody tr th {\n",
              "        vertical-align: top;\n",
              "    }\n",
              "\n",
              "    .dataframe thead th {\n",
              "        text-align: right;\n",
              "    }\n",
              "</style>\n",
              "<table border=\"1\" class=\"dataframe\">\n",
              "  <thead>\n",
              "    <tr style=\"text-align: right;\">\n",
              "      <th></th>\n",
              "      <th>title</th>\n",
              "      <th>text</th>\n",
              "      <th>subject</th>\n",
              "      <th>date</th>\n",
              "      <th>label</th>\n",
              "    </tr>\n",
              "  </thead>\n",
              "  <tbody>\n",
              "    <tr>\n",
              "      <th>0</th>\n",
              "      <td>Turkey says talk of ending its EU accession un...</td>\n",
              "      <td>ISTANBUL (Reuters) - Turkey s European Union A...</td>\n",
              "      <td>worldnews</td>\n",
              "      <td>September 4, 2017</td>\n",
              "      <td>REAL</td>\n",
              "    </tr>\n",
              "    <tr>\n",
              "      <th>1</th>\n",
              "      <td>IRONIC: WHITE SOUTHERNER BILL CLINTON Just Tol...</td>\n",
              "      <td>OOPS! IN 2008 BILL CLINTON SAID THE SAME THING...</td>\n",
              "      <td>politics</td>\n",
              "      <td>Sep 9, 2016</td>\n",
              "      <td>FAKE</td>\n",
              "    </tr>\n",
              "    <tr>\n",
              "      <th>2</th>\n",
              "      <td>Turkey summons U.S. envoy over Washington stre...</td>\n",
              "      <td>ANKARA (Reuters) - Turkey summoned the U.S amb...</td>\n",
              "      <td>politicsNews</td>\n",
              "      <td>May 22, 2017</td>\n",
              "      <td>REAL</td>\n",
              "    </tr>\n",
              "    <tr>\n",
              "      <th>3</th>\n",
              "      <td>#NewOrleans: BLACK PATRIOTS Ready To Fight Ant...</td>\n",
              "      <td>May 7th is likely going to be a day of clashes...</td>\n",
              "      <td>left-news</td>\n",
              "      <td>May 7, 2017</td>\n",
              "      <td>FAKE</td>\n",
              "    </tr>\n",
              "    <tr>\n",
              "      <th>4</th>\n",
              "      <td>Britain wants Zimbabwe to rejoin international...</td>\n",
              "      <td>LONDON (Reuters) - Britain wants Zimbabwe to r...</td>\n",
              "      <td>worldnews</td>\n",
              "      <td>November 22, 2017</td>\n",
              "      <td>REAL</td>\n",
              "    </tr>\n",
              "  </tbody>\n",
              "</table>\n",
              "</div>\n",
              "    <div class=\"colab-df-buttons\">\n",
              "\n",
              "  <div class=\"colab-df-container\">\n",
              "    <button class=\"colab-df-convert\" onclick=\"convertToInteractive('df-0a7862d3-8593-401e-87c0-37b7e25deb90')\"\n",
              "            title=\"Convert this dataframe to an interactive table.\"\n",
              "            style=\"display:none;\">\n",
              "\n",
              "  <svg xmlns=\"http://www.w3.org/2000/svg\" height=\"24px\" viewBox=\"0 -960 960 960\">\n",
              "    <path d=\"M120-120v-720h720v720H120Zm60-500h600v-160H180v160Zm220 220h160v-160H400v160Zm0 220h160v-160H400v160ZM180-400h160v-160H180v160Zm440 0h160v-160H620v160ZM180-180h160v-160H180v160Zm440 0h160v-160H620v160Z\"/>\n",
              "  </svg>\n",
              "    </button>\n",
              "\n",
              "  <style>\n",
              "    .colab-df-container {\n",
              "      display:flex;\n",
              "      gap: 12px;\n",
              "    }\n",
              "\n",
              "    .colab-df-convert {\n",
              "      background-color: #E8F0FE;\n",
              "      border: none;\n",
              "      border-radius: 50%;\n",
              "      cursor: pointer;\n",
              "      display: none;\n",
              "      fill: #1967D2;\n",
              "      height: 32px;\n",
              "      padding: 0 0 0 0;\n",
              "      width: 32px;\n",
              "    }\n",
              "\n",
              "    .colab-df-convert:hover {\n",
              "      background-color: #E2EBFA;\n",
              "      box-shadow: 0px 1px 2px rgba(60, 64, 67, 0.3), 0px 1px 3px 1px rgba(60, 64, 67, 0.15);\n",
              "      fill: #174EA6;\n",
              "    }\n",
              "\n",
              "    .colab-df-buttons div {\n",
              "      margin-bottom: 4px;\n",
              "    }\n",
              "\n",
              "    [theme=dark] .colab-df-convert {\n",
              "      background-color: #3B4455;\n",
              "      fill: #D2E3FC;\n",
              "    }\n",
              "\n",
              "    [theme=dark] .colab-df-convert:hover {\n",
              "      background-color: #434B5C;\n",
              "      box-shadow: 0px 1px 3px 1px rgba(0, 0, 0, 0.15);\n",
              "      filter: drop-shadow(0px 1px 2px rgba(0, 0, 0, 0.3));\n",
              "      fill: #FFFFFF;\n",
              "    }\n",
              "  </style>\n",
              "\n",
              "    <script>\n",
              "      const buttonEl =\n",
              "        document.querySelector('#df-0a7862d3-8593-401e-87c0-37b7e25deb90 button.colab-df-convert');\n",
              "      buttonEl.style.display =\n",
              "        google.colab.kernel.accessAllowed ? 'block' : 'none';\n",
              "\n",
              "      async function convertToInteractive(key) {\n",
              "        const element = document.querySelector('#df-0a7862d3-8593-401e-87c0-37b7e25deb90');\n",
              "        const dataTable =\n",
              "          await google.colab.kernel.invokeFunction('convertToInteractive',\n",
              "                                                    [key], {});\n",
              "        if (!dataTable) return;\n",
              "\n",
              "        const docLinkHtml = 'Like what you see? Visit the ' +\n",
              "          '<a target=\"_blank\" href=https://colab.research.google.com/notebooks/data_table.ipynb>data table notebook</a>'\n",
              "          + ' to learn more about interactive tables.';\n",
              "        element.innerHTML = '';\n",
              "        dataTable['output_type'] = 'display_data';\n",
              "        await google.colab.output.renderOutput(dataTable, element);\n",
              "        const docLink = document.createElement('div');\n",
              "        docLink.innerHTML = docLinkHtml;\n",
              "        element.appendChild(docLink);\n",
              "      }\n",
              "    </script>\n",
              "  </div>\n",
              "\n",
              "\n",
              "    <div id=\"df-3b8954fb-9915-4059-87b2-88f73b6e036a\">\n",
              "      <button class=\"colab-df-quickchart\" onclick=\"quickchart('df-3b8954fb-9915-4059-87b2-88f73b6e036a')\"\n",
              "                title=\"Suggest charts\"\n",
              "                style=\"display:none;\">\n",
              "\n",
              "<svg xmlns=\"http://www.w3.org/2000/svg\" height=\"24px\"viewBox=\"0 0 24 24\"\n",
              "     width=\"24px\">\n",
              "    <g>\n",
              "        <path d=\"M19 3H5c-1.1 0-2 .9-2 2v14c0 1.1.9 2 2 2h14c1.1 0 2-.9 2-2V5c0-1.1-.9-2-2-2zM9 17H7v-7h2v7zm4 0h-2V7h2v10zm4 0h-2v-4h2v4z\"/>\n",
              "    </g>\n",
              "</svg>\n",
              "      </button>\n",
              "\n",
              "<style>\n",
              "  .colab-df-quickchart {\n",
              "      --bg-color: #E8F0FE;\n",
              "      --fill-color: #1967D2;\n",
              "      --hover-bg-color: #E2EBFA;\n",
              "      --hover-fill-color: #174EA6;\n",
              "      --disabled-fill-color: #AAA;\n",
              "      --disabled-bg-color: #DDD;\n",
              "  }\n",
              "\n",
              "  [theme=dark] .colab-df-quickchart {\n",
              "      --bg-color: #3B4455;\n",
              "      --fill-color: #D2E3FC;\n",
              "      --hover-bg-color: #434B5C;\n",
              "      --hover-fill-color: #FFFFFF;\n",
              "      --disabled-bg-color: #3B4455;\n",
              "      --disabled-fill-color: #666;\n",
              "  }\n",
              "\n",
              "  .colab-df-quickchart {\n",
              "    background-color: var(--bg-color);\n",
              "    border: none;\n",
              "    border-radius: 50%;\n",
              "    cursor: pointer;\n",
              "    display: none;\n",
              "    fill: var(--fill-color);\n",
              "    height: 32px;\n",
              "    padding: 0;\n",
              "    width: 32px;\n",
              "  }\n",
              "\n",
              "  .colab-df-quickchart:hover {\n",
              "    background-color: var(--hover-bg-color);\n",
              "    box-shadow: 0 1px 2px rgba(60, 64, 67, 0.3), 0 1px 3px 1px rgba(60, 64, 67, 0.15);\n",
              "    fill: var(--button-hover-fill-color);\n",
              "  }\n",
              "\n",
              "  .colab-df-quickchart-complete:disabled,\n",
              "  .colab-df-quickchart-complete:disabled:hover {\n",
              "    background-color: var(--disabled-bg-color);\n",
              "    fill: var(--disabled-fill-color);\n",
              "    box-shadow: none;\n",
              "  }\n",
              "\n",
              "  .colab-df-spinner {\n",
              "    border: 2px solid var(--fill-color);\n",
              "    border-color: transparent;\n",
              "    border-bottom-color: var(--fill-color);\n",
              "    animation:\n",
              "      spin 1s steps(1) infinite;\n",
              "  }\n",
              "\n",
              "  @keyframes spin {\n",
              "    0% {\n",
              "      border-color: transparent;\n",
              "      border-bottom-color: var(--fill-color);\n",
              "      border-left-color: var(--fill-color);\n",
              "    }\n",
              "    20% {\n",
              "      border-color: transparent;\n",
              "      border-left-color: var(--fill-color);\n",
              "      border-top-color: var(--fill-color);\n",
              "    }\n",
              "    30% {\n",
              "      border-color: transparent;\n",
              "      border-left-color: var(--fill-color);\n",
              "      border-top-color: var(--fill-color);\n",
              "      border-right-color: var(--fill-color);\n",
              "    }\n",
              "    40% {\n",
              "      border-color: transparent;\n",
              "      border-right-color: var(--fill-color);\n",
              "      border-top-color: var(--fill-color);\n",
              "    }\n",
              "    60% {\n",
              "      border-color: transparent;\n",
              "      border-right-color: var(--fill-color);\n",
              "    }\n",
              "    80% {\n",
              "      border-color: transparent;\n",
              "      border-right-color: var(--fill-color);\n",
              "      border-bottom-color: var(--fill-color);\n",
              "    }\n",
              "    90% {\n",
              "      border-color: transparent;\n",
              "      border-bottom-color: var(--fill-color);\n",
              "    }\n",
              "  }\n",
              "</style>\n",
              "\n",
              "      <script>\n",
              "        async function quickchart(key) {\n",
              "          const quickchartButtonEl =\n",
              "            document.querySelector('#' + key + ' button');\n",
              "          quickchartButtonEl.disabled = true;  // To prevent multiple clicks.\n",
              "          quickchartButtonEl.classList.add('colab-df-spinner');\n",
              "          try {\n",
              "            const charts = await google.colab.kernel.invokeFunction(\n",
              "                'suggestCharts', [key], {});\n",
              "          } catch (error) {\n",
              "            console.error('Error during call to suggestCharts:', error);\n",
              "          }\n",
              "          quickchartButtonEl.classList.remove('colab-df-spinner');\n",
              "          quickchartButtonEl.classList.add('colab-df-quickchart-complete');\n",
              "        }\n",
              "        (() => {\n",
              "          let quickchartButtonEl =\n",
              "            document.querySelector('#df-3b8954fb-9915-4059-87b2-88f73b6e036a button');\n",
              "          quickchartButtonEl.style.display =\n",
              "            google.colab.kernel.accessAllowed ? 'block' : 'none';\n",
              "        })();\n",
              "      </script>\n",
              "    </div>\n",
              "\n",
              "    </div>\n",
              "  </div>\n"
            ],
            "text/plain": [
              "                                               title  \\\n",
              "0  Turkey says talk of ending its EU accession un...   \n",
              "1  IRONIC: WHITE SOUTHERNER BILL CLINTON Just Tol...   \n",
              "2  Turkey summons U.S. envoy over Washington stre...   \n",
              "3  #NewOrleans: BLACK PATRIOTS Ready To Fight Ant...   \n",
              "4  Britain wants Zimbabwe to rejoin international...   \n",
              "\n",
              "                                                text       subject  \\\n",
              "0  ISTANBUL (Reuters) - Turkey s European Union A...     worldnews   \n",
              "1  OOPS! IN 2008 BILL CLINTON SAID THE SAME THING...      politics   \n",
              "2  ANKARA (Reuters) - Turkey summoned the U.S amb...  politicsNews   \n",
              "3  May 7th is likely going to be a day of clashes...     left-news   \n",
              "4  LONDON (Reuters) - Britain wants Zimbabwe to r...     worldnews   \n",
              "\n",
              "                 date label  \n",
              "0  September 4, 2017   REAL  \n",
              "1         Sep 9, 2016  FAKE  \n",
              "2       May 22, 2017   REAL  \n",
              "3         May 7, 2017  FAKE  \n",
              "4  November 22, 2017   REAL  "
            ]
          },
          "execution_count": 11,
          "metadata": {},
          "output_type": "execute_result"
        }
      ],
      "source": [
        "import pandas as pd\n",
        "\n",
        "# Load both datasets\n",
        "fake = pd.read_csv(\"Fake.csv\")\n",
        "true = pd.read_csv(\"True.csv\")\n",
        "\n",
        "# Add labels\n",
        "fake[\"label\"] = \"FAKE\"\n",
        "true[\"label\"] = \"REAL\"\n",
        "\n",
        "# Combine both\n",
        "df = pd.concat([fake, true])\n",
        "df = df.sample(frac=1).reset_index(drop=True)\n",
        "\n",
        "# Optional: save combined dataset\n",
        "df.to_csv(\"fake-news.csv\", index=False)\n",
        "\n",
        "print(\"✅ Combined dataset ready\")\n",
        "df.head()"
      ]
    },
    {
      "cell_type": "code",
      "execution_count": 12,
      "metadata": {
        "id": "TseYJ6BqKmBq"
      },
      "outputs": [],
      "source": [
        "# Step 4: Preprocess Data & Split into Training & Testing Sets"
      ]
    },
    {
      "cell_type": "code",
      "execution_count": 13,
      "metadata": {
        "colab": {
          "base_uri": "https://localhost:8080/"
        },
        "id": "oa8km9NrLw9P",
        "outputId": "134190f0-6d22-429e-f8df-8ae691feffec"
      },
      "outputs": [
        {
          "name": "stdout",
          "output_type": "stream",
          "text": [
            "✅ Train-test split done\n",
            "Training data size: (35918,)\n",
            "Testing data size: (8980,)\n"
          ]
        }
      ],
      "source": [
        "# Keep only relevant columns\n",
        "df = df[['text', 'label']]\n",
        "\n",
        "# Split input and output\n",
        "x = df['text']\n",
        "y = df['label']\n",
        "\n",
        "# Train-test split\n",
        "from sklearn.model_selection import train_test_split\n",
        "x_train, x_test, y_train, y_test = train_test_split(x, y, test_size=0.2, random_state=7)\n",
        "\n",
        "print(\"✅ Train-test split done\")\n",
        "print(\"Training data size:\", x_train.shape)\n",
        "print(\"Testing data size:\", x_test.shape)"
      ]
    },
    {
      "cell_type": "code",
      "execution_count": 14,
      "metadata": {
        "id": "EbzvC4-IL5xO"
      },
      "outputs": [],
      "source": [
        "# Step 5: TF-IDF Vectorization"
      ]
    },
    {
      "cell_type": "code",
      "execution_count": 15,
      "metadata": {
        "colab": {
          "base_uri": "https://localhost:8080/"
        },
        "id": "eW7pIWAaMLMj",
        "outputId": "39c533c0-01c4-4245-b5a9-253b2a2e886a"
      },
      "outputs": [
        {
          "name": "stdout",
          "output_type": "stream",
          "text": [
            "✅ TF-IDF vectorization complete\n",
            "Train vector shape: (35918, 111129)\n",
            "Test vector shape: (8980, 111129)\n"
          ]
        }
      ],
      "source": [
        "from sklearn.feature_extraction.text import TfidfVectorizer\n",
        "\n",
        "# Initialize vectorizer\n",
        "tfidf_vectorizer = TfidfVectorizer(stop_words='english', max_df=0.7)\n",
        "\n",
        "# Fit and transform the training data\n",
        "tfidf_train = tfidf_vectorizer.fit_transform(x_train)\n",
        "\n",
        "# Transform the test data\n",
        "tfidf_test = tfidf_vectorizer.transform(x_test)\n",
        "\n",
        "print(\"✅ TF-IDF vectorization complete\")\n",
        "print(\"Train vector shape:\", tfidf_train.shape)\n",
        "print(\"Test vector shape:\", tfidf_test.shape)"
      ]
    },
    {
      "cell_type": "code",
      "execution_count": 16,
      "metadata": {
        "id": "5T-Ht5z3MWk_"
      },
      "outputs": [],
      "source": [
        "# Step 6: Train the Model"
      ]
    },
    {
      "cell_type": "code",
      "execution_count": 17,
      "metadata": {
        "colab": {
          "base_uri": "https://localhost:8080/"
        },
        "id": "y0G-pJ_pMw2-",
        "outputId": "4f4ff276-3f35-423a-943a-e702236c406b"
      },
      "outputs": [
        {
          "name": "stdout",
          "output_type": "stream",
          "text": [
            "✅ Model training complete\n"
          ]
        }
      ],
      "source": [
        "from sklearn.linear_model import PassiveAggressiveClassifier\n",
        "\n",
        "# Initialize model\n",
        "pac = PassiveAggressiveClassifier(max_iter=50)\n",
        "\n",
        "# Train the model\n",
        "pac.fit(tfidf_train, y_train)\n",
        "\n",
        "print(\"✅ Model training complete\")"
      ]
    },
    {
      "cell_type": "code",
      "execution_count": 18,
      "metadata": {
        "id": "yhTSpORzM2_8"
      },
      "outputs": [],
      "source": [
        "# Step 7: Check Accuracy and Confusion Matrix"
      ]
    },
    {
      "cell_type": "code",
      "execution_count": 19,
      "metadata": {
        "colab": {
          "base_uri": "https://localhost:8080/"
        },
        "id": "LKuW5dsVNG1s",
        "outputId": "f68128e0-890f-4dec-b602-39d7ac675fdd"
      },
      "outputs": [
        {
          "name": "stdout",
          "output_type": "stream",
          "text": [
            "✅ Accuracy: 99.44%\n",
            "\n",
            "Confusion Matrix:\n",
            "[[4707   33]\n",
            " [  17 4223]]\n"
          ]
        }
      ],
      "source": [
        "from sklearn.metrics import accuracy_score, confusion_matrix\n",
        "\n",
        "# Predict on test data\n",
        "y_pred = pac.predict(tfidf_test)\n",
        "\n",
        "# Accuracy score\n",
        "score = accuracy_score(y_test, y_pred)\n",
        "print(f\"✅ Accuracy: {round(score*100, 2)}%\")\n",
        "\n",
        "# Confusion Matrix\n",
        "confusion = confusion_matrix(y_test, y_pred)\n",
        "print(\"\\nConfusion Matrix:\")\n",
        "print(confusion)"
      ]
    },
    {
      "cell_type": "code",
      "execution_count": 20,
      "metadata": {
        "id": "LyEzIInwNN0I"
      },
      "outputs": [],
      "source": [
        "# Step 8: Predict Custom News Headline"
      ]
    },
    {
      "cell_type": "code",
      "execution_count": 21,
      "metadata": {
        "colab": {
          "base_uri": "https://localhost:8080/"
        },
        "id": "HHTAeWurNcx1",
        "outputId": "6f07f2b5-8ed1-410d-a974-b1593dbc239c"
      },
      "outputs": [
        {
          "name": "stdout",
          "output_type": "stream",
          "text": [
            "📰 Prediction for custom news: FAKE\n"
          ]
        }
      ],
      "source": [
        "# Custom news text\n",
        "custom_news = [\"Breaking: NASA finds evidence of aliens on Mars!\"]\n",
        "\n",
        "# Transform using TF-IDF\n",
        "custom_news_vector = tfidf_vectorizer.transform(custom_news)\n",
        "\n",
        "# Predict\n",
        "prediction = pac.predict(custom_news_vector)\n",
        "print(\"📰 Prediction for custom news:\", prediction[0])"
      ]
    },
    {
      "cell_type": "code",
      "execution_count": 22,
      "metadata": {
        "id": "titOgXFMNo8D"
      },
      "outputs": [],
      "source": [
        "# Step 9: Solve the Model and Vectorizer"
      ]
    },
    {
      "cell_type": "code",
      "execution_count": 23,
      "metadata": {
        "colab": {
          "base_uri": "https://localhost:8080/"
        },
        "id": "WB8kh0hZN3Hj",
        "outputId": "0c242054-4b18-4a2f-9c6b-17540e641974"
      },
      "outputs": [
        {
          "name": "stdout",
          "output_type": "stream",
          "text": [
            "✅ Model & vectorizer saved successfully\n"
          ]
        }
      ],
      "source": [
        "import joblib\n",
        "\n",
        "# Save model\n",
        "joblib.dump(pac, \"fake_news_model.pkl\")\n",
        "\n",
        "# Save vectorizer\n",
        "joblib.dump(tfidf_vectorizer, \"tfidf_vectorizer.pkl\")\n",
        "\n",
        "print(\"✅ Model & vectorizer saved successfully\")"
      ]
    },
    {
      "cell_type": "markdown",
      "metadata": {
        "id": "0tulDoZ6QXKr"
      },
      "source": [
        "## Step 10: Project Summary & Conclusion\n",
        "\n",
        "🔹 This project successfully detects fake news using Machine Learning.\n",
        "\n",
        "🔹 Dataset: Combined from Fake.csv and True.csv\n",
        "\n",
        "🔹 Vectorization: TF-IDF used to convert text to numerical format\n",
        "\n",
        "🔹 Model: PassiveAggressiveClassifier trained and tested\n",
        "\n",
        "🔹 Accuracy: Around 93-94% achieved on the test set\n",
        "\n",
        "🔹 Custom news predictions also tested\n",
        "\n",
        "✅ Project Completed Successfully!"
      ]
    }
  ],
  "metadata": {
    "colab": {
      "provenance": []
    },
    "kernelspec": {
      "display_name": "Python 3",
      "name": "python3"
    },
    "language_info": {
      "name": "python"
    }
  },
  "nbformat": 4,
  "nbformat_minor": 0
}
